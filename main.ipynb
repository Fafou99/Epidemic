{
 "cells": [
  {
   "cell_type": "markdown",
   "metadata": {},
   "source": [
    "# Essais de simulation d'une épidémie\n",
    "\n",
    "Fares Jelassi, Anita Dürr\n",
    "\n",
    "Avril 2020"
   ]
  },
  {
   "cell_type": "code",
   "execution_count": null,
   "metadata": {},
   "outputs": [],
   "source": [
    "import numpy as np\n",
    "import matplotlib.pyplot as plt"
   ]
  },
  {
   "cell_type": "markdown",
   "metadata": {},
   "source": [
    "## Modèle SIR\n",
    "\n",
    "Nous utilisons un modèle compartimental pour simuler l'épidémie, en commençant par un modèle simple : SIR.\n",
    "\n",
    "On partitionne la population en 3 catégories : \n",
    "* S : les personnes saines\n",
    "* I : les personnes infectueuses\n",
    "* R : les personnes retirées c'est à dire les morts et les guéries, qui ne peuvent plus attraper le virus ni le transmettre "
   ]
  },
  {
   "cell_type": "code",
   "execution_count": null,
   "metadata": {},
   "outputs": [],
   "source": [
    "def edoSIR_discret(S, I, R, beta, gamma, N):\n",
    "    '''\n",
    "    :param: S = S(t)\n",
    "            I = I(t)\n",
    "            R = R(t)\n",
    "            beta, gamma, N the model's parameters\n",
    "    :return: S(t+1), I(t+1), R(t+1) with the finite difference approximation\n",
    "    '''\n",
    "    St = - beta * S * I / N + S\n",
    "    It = beta * S * I / N - I * (gamma - 1)\n",
    "    Rt = gamma * I + R\n",
    "#    Rt = N - St - It\n",
    "    return St, It, Dt, Ct"
   ]
  },
  {
   "cell_type": "code",
   "execution_count": null,
   "metadata": {},
   "outputs": [],
   "source": [
    "def edoSIR_continue(S, I, R, beta, gamma, N):\n",
    "    '''\n",
    "    :param: S = S(t)\n",
    "            I = I(t)\n",
    "            R = R(t)\n",
    "            beta, gamma, N the model's parameters\n",
    "    :return: S(t+1), I(t+1), R(t+1) with the continuous resolution of the edo\n",
    "    '''\n",
    "    St, It, Rt = 0, 0, 0\n",
    "    return St, It, Rt"
   ]
  },
  {
   "cell_type": "code",
   "execution_count": null,
   "metadata": {},
   "outputs": [],
   "source": [
    "def SIR(S0, I0, R0, beta, gamma, N, end):\n",
    "    Ls, Li, Lr = np.empty(end), np.empty(end), np.empty(end)\n",
    "    St, It, Rt = S0, I0, R0\n",
    "    for t in range(end):\n",
    "        Ls[t], Li[t], Lr[t] = St, It, Rt\n",
    "        St, It, Rt = edo_discret(St, It, Rt, beta, gamma, N)\n",
    "    return Ls, Li, Lr"
   ]
  },
  {
   "cell_type": "markdown",
   "metadata": {},
   "source": [
    "Paramètres et initialisation"
   ]
  },
  {
   "cell_type": "code",
   "execution_count": null,
   "metadata": {},
   "outputs": [],
   "source": [
    "N = 1000 # total population\n",
    "\n",
    "I0 = 10\n",
    "R0 = 0\n",
    "S0 = N - I0 - R0\n",
    "\n",
    "d = 20 # durée d'une infection\n",
    "\n",
    "p = 1/50 # probabilité de transmission lors d'un contact entre un I et un S\n",
    "c = 30 # nombre de contact par unité de temps\n",
    "\n",
    "beta = p * c\n",
    "gamma = 1/d\n",
    "\n",
    "Rnutch = beta/gamma    #/!\\ attention  pas le même R0 que l'initialisation de removed population\n",
    "\n",
    "print('Rnutch :', Rnutch)"
   ]
  },
  {
   "cell_type": "code",
   "execution_count": null,
   "metadata": {},
   "outputs": [],
   "source": [
    "end = 60\n",
    "t = np.linspace(0, end, end)\n",
    "Ls, Li, Lr = SIR(S0, I0, D0, C0, beta, gamma, N, end)\n",
    "\n",
    "#normaliser\n",
    "Ls = Ls / N\n",
    "Li = Li / N\n",
    "Lr = Lr / N\n",
    "\n",
    "plt.plot(t, Li, marker='.', color='orange', label='I(t)')\n",
    "plt.plot(t, Ls, marker='.', color='skyblue', label='S(t)')\n",
    "plt.plot(t, Ld, marker='.', color='purple', label='R(t)')\n",
    "plt.legend()\n",
    "plt.show()\n",
    "\n",
    "plt.stackplot(t, Li, Ls, Ld, Lc, labels=['I(t)', 'S(t)', 'R(t)'], colors=['orange', 'skyblue', 'grey'])\n",
    "plt.legend(loc='upper left')\n",
    "plt.margins(0,0)\n",
    "plt.show()"
   ]
  },
  {
   "cell_type": "markdown",
   "metadata": {},
   "source": [
    "## Modèle SIDC"
   ]
  },
  {
   "cell_type": "code",
   "execution_count": null,
   "metadata": {},
   "outputs": [],
   "source": [
    "def edoSIDC_discret(S, I, D, C, beta, gamma, delta, N):\n",
    "    '''\n",
    "    :param: S = S(t)\n",
    "            I = I(t)\n",
    "            R = R(t)\n",
    "            beta, gamma, N the model's parameters\n",
    "    :return: S(t+1), I(t+1), R(t+1) with the finite difference approximation\n",
    "    '''\n",
    "    St = - beta * S * I / N + S\n",
    "    It = beta * S * I / N - I * (gamma - 1)\n",
    "    R = D + C\n",
    "    Rt = gamma * I + R\n",
    "    Dt = delta * Rt\n",
    "    Ct = Rt - Dt\n",
    "#    Rt = N - St - It\n",
    "    return St, It, Dt, Ct"
   ]
  },
  {
   "cell_type": "code",
   "execution_count": null,
   "metadata": {},
   "outputs": [],
   "source": [
    "def SIDC(S0, I0, D0, C0, beta, gamma, delta, N, end, betaconf):\n",
    "    Ls, Li, Ld, Lc = np.empty(end), np.empty(end), np.empty(end), np.empty(end)\n",
    "    St, It, Dt, Ct = S0, I0, D0, C0\n",
    "    for t in range(end):\n",
    "        Ls[t], Li[t], Ld[t], Lc[t] = St, It, Dt, Ct\n",
    "        if It >= 0.4 * N :\n",
    "            beta = betaconf\n",
    "        St, It, Dt, Ct = edo_discret(St, It, Dt, Ct, beta, gamma, delta, N)\n",
    "    return Ls, Li, Ld, Lc"
   ]
  }
 ],
 "metadata": {
  "kernelspec": {
   "display_name": "Python 3",
   "language": "python",
   "name": "python3"
  },
  "language_info": {
   "codemirror_mode": {
    "name": "ipython",
    "version": 3
   },
   "file_extension": ".py",
   "mimetype": "text/x-python",
   "name": "python",
   "nbconvert_exporter": "python",
   "pygments_lexer": "ipython3",
   "version": "3.7.3"
  }
 },
 "nbformat": 4,
 "nbformat_minor": 2
}
