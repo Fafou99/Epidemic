{
 "cells": [
  {
   "cell_type": "markdown",
   "metadata": {},
   "source": [
    "# Essais de simulation d'une épidémie\n",
    "\n",
    "Fares Jelassi, Anita Dürr\n",
    "\n",
    "Avril 2020\n",
    "\n",
    "Fortement inspiré de  : https://www.youtube.com/watch?v=gxAaO2rsdIs, https://fr.wikipedia.org/wiki/Mod%C3%A8les_compartimentaux_en_%C3%A9pid%C3%A9miologie, https://en.wikipedia.org/wiki/Compartmental_models_in_epidemiology#The_SIR_model"
   ]
  },
  {
   "cell_type": "code",
   "execution_count": 2,
   "metadata": {},
   "outputs": [],
   "source": [
    "import numpy as np\n",
    "import matplotlib.pyplot as plt"
   ]
  },
  {
   "cell_type": "markdown",
   "metadata": {},
   "source": [
    "## Modèle SIR\n",
    "\n",
    "Nous utilisons un modèle compartimental pour simuler l'épidémie, en commençant par un modèle simple : SIR.\n",
    "\n",
    "Soit $N$ la taille de la population. \n",
    "On partitionne la population en 3 catégories : \n",
    "* S : les personnes saines\n",
    "* I : les personnes infectueuses\n",
    "* R : les personnes retirées c'est à dire les morts et les guéries, qui ne peuvent plus attraper le virus ni le transmettre\n",
    "\n",
    "On définit $\\beta$ comme le produit entre le nombre de contacts avec d'autre personnes par unité de temps et la probabilité de transmission lors d'un contact entre une personne saine et une personne infectueuse. Le rapport $I/N$ représente la probabilité que la personne avec qui une personne saine est en contact soit infectueuse. Ainsi l'évolution de la population S peut se décrire par l'équation différentielle :\n",
    "\n",
    "$$\\frac{dS}{dt} = - \\beta \\frac{I}{N} S$$\n",
    "\n",
    "Le paramètre $\\gamma$ représente le taux de personnes infectueuses qui sortent de cet état pour entrer dans R. On peut aisni le définir comme l'inverse de la durée d'une infection. L'évolution de la population R est ainsi donnée par l'équation différentielle :\n",
    "\n",
    "$$\\frac{dR}{dt} = \\gamma I$$\n",
    "\n",
    "Finalement, puisqu'on fait l'hypothèse que $S + I + R = N$ et que $\\frac{dS}{dt} + \\frac{dI}{dt} + \\frac{dR}{dt} = 0$, on obtient pour I :\n",
    "\n",
    "$$\\frac{dI}{dt} = \\beta \\frac{I}{N} S -\\gamma I$$.\n",
    "\n",
    "On peut résoudre ces équations différentielles avec la méthdoe des accroissements finis en approximant $\\frac{dS}{dt}$ par $S(t + 1) - S(t)$."
   ]
  },
  {
   "cell_type": "code",
   "execution_count": 11,
   "metadata": {},
   "outputs": [],
   "source": [
    "def edoSIR_discret(S, I, R, beta, gamma, N):\n",
    "    '''\n",
    "    :param: S = S(t)\n",
    "            I = I(t)\n",
    "            R = R(t)\n",
    "            beta, gamma, N the model's parameters\n",
    "    :return: S(t+1), I(t+1), R(t+1) with the finite difference approximation\n",
    "    '''\n",
    "    St = - beta * S * I / N + S\n",
    "    It = beta * S * I / N - I * (gamma - 1)\n",
    "    Rt = gamma * I + R\n",
    "#    Rt = N - St - It\n",
    "    return St, It, Rt"
   ]
  },
  {
   "cell_type": "code",
   "execution_count": 12,
   "metadata": {},
   "outputs": [],
   "source": [
    "def edoSIR_continue(S, I, R, beta, gamma, N):\n",
    "    '''\n",
    "    :param: S = S(t)\n",
    "            I = I(t)\n",
    "            R = R(t)\n",
    "            beta, gamma, N the model's parameters\n",
    "    :return: S(t+1), I(t+1), R(t+1) with the continuous resolution of the edo\n",
    "    '''\n",
    "    St, It, Rt = 0, 0, 0\n",
    "    return St, It, Rt"
   ]
  },
  {
   "cell_type": "code",
   "execution_count": 13,
   "metadata": {},
   "outputs": [],
   "source": [
    "def SIR(S0, I0, R0, beta, gamma, N, end):\n",
    "    Ls, Li, Lr = np.empty(end), np.empty(end), np.empty(end)\n",
    "    St, It, Rt = S0, I0, R0\n",
    "    for t in range(end):\n",
    "        Ls[t], Li[t], Lr[t] = St, It, Rt\n",
    "        St, It, Rt = edoSIR_discret(St, It, Rt, beta, gamma, N)\n",
    "    return Ls, Li, Lr"
   ]
  },
  {
   "cell_type": "markdown",
   "metadata": {},
   "source": [
    "### Paramètres et initialisation\n",
    "\n",
    "Nos choix des paramètres p et c sont arbitraires.\n",
    "Le R_0 (= Rnutch, le taux de reproduction de base) est entre 2 et 3, comme pour le Covid-19."
   ]
  },
  {
   "cell_type": "code",
   "execution_count": 39,
   "metadata": {},
   "outputs": [
    {
     "name": "stdout",
     "output_type": "stream",
     "text": [
      "Rnutch : 11.999999999999998\n"
     ]
    }
   ],
   "source": [
    "N = 1000 # total population\n",
    "\n",
    "I0 = 10\n",
    "R0 = 0\n",
    "S0 = N - I0 - R0\n",
    "\n",
    "d = 20 # durée d'une infection\n",
    "\n",
    "p = 1/50 # probabilité de transmission lors d'un contact entre un I et un S\n",
    "c = 30 # nombre de contact par unité de temps\n",
    "\n",
    "beta = p * c\n",
    "gamma = 1/d\n",
    "\n",
    "Rnutch = beta/gamma    #/!\\ attention  pas le même R0 que l'initialisation de removed population\n",
    "\n",
    "print('Rnutch :', Rnutch)"
   ]
  },
  {
   "cell_type": "code",
   "execution_count": 38,
   "metadata": {},
   "outputs": [
    {
     "data": {
      "image/png": "[encoded data removed]",
      "text/plain": [
       "<Figure size 432x288 with 1 Axes>"
      ]
     },
     "metadata": {
      "needs_background": "light"
     },
     "output_type": "display_data"
    },
    {
     "data": {
      "image/png": "[encoded data removed]",
      "text/plain": [
       "<Figure size 432x288 with 1 Axes>"
      ]
     },
     "metadata": {
      "needs_background": "light"
     },
     "output_type": "display_data"
    }
   ],
   "source": [
    "end = 200\n",
    "t = np.linspace(0, end, end)\n",
    "Ls, Li, Lr = SIR(S0, I0, R0, beta, gamma, N, end)\n",
    "\n",
    "#normaliser\n",
    "Ls = Ls / N\n",
    "Li = Li / N\n",
    "Lr = Lr / N\n",
    "\n",
    "plt.plot(t, Li, marker='.', color='orange', label='I(t)')\n",
    "plt.plot(t, Ls, marker='.', color='skyblue', label='S(t)')\n",
    "plt.plot(t, Lr, marker='.', color='purple', label='R(t)')\n",
    "plt.legend()\n",
    "plt.show()\n",
    "\n",
    "plt.stackplot(t, Li, Ls, Lr, labels=['I(t)', 'S(t)', 'R(t)'], colors=['orange', 'skyblue', 'purple'])\n",
    "plt.legend(loc='upper left')\n",
    "plt.margins(0,0)\n",
    "plt.show()"
   ]
  },
  {
   "cell_type": "markdown",
   "metadata": {},
   "source": []
  },
  {
   "cell_type": "markdown",
   "metadata": {},
   "source": [
    "## Modèle SIDC\n",
    "\n",
    "On partitionne la population en 4 catégories : \n",
    "* S : les personnes saines\n",
    "* I : les personnes infectueuses\n",
    "* D : les personnes mortes (dead)\n",
    "* C : les personnes guéries (cured)\n",
    "\n"
   ]
  },
  {
   "cell_type": "code",
   "execution_count": null,
   "metadata": {},
   "outputs": [],
   "source": [
    "def edoSIDC_discret(S, I, D, C, beta, gamma, delta, N):\n",
    "    '''\n",
    "    :param: S = S(t)\n",
    "            I = I(t)\n",
    "            R = R(t)\n",
    "            beta, gamma, N the model's parameters\n",
    "    :return: S(t+1), I(t+1), R(t+1) with the finite difference approximation\n",
    "    '''\n",
    "    St = - beta * S * I / N + S\n",
    "    It = beta * S * I / N - I * (gamma - 1)\n",
    "    R = D + C\n",
    "    Rt = gamma * I + R\n",
    "    Dt = delta * Rt\n",
    "    Ct = Rt - Dt\n",
    "#    Rt = N - St - It\n",
    "    return St, It, Dt, Ct"
   ]
  },
  {
   "cell_type": "code",
   "execution_count": null,
   "metadata": {},
   "outputs": [],
   "source": [
    "def SIDC(S0, I0, D0, C0, beta, gamma, delta, N, end):\n",
    "    Ls, Li, Ld, Lc = np.empty(end), np.empty(end), np.empty(end), np.empty(end)\n",
    "    St, It, Dt, Ct = S0, I0, D0, C0\n",
    "    for t in range(end):\n",
    "        Ls[t], Li[t], Ld[t], Lc[t] = St, It, Dt, Ct\n",
    "        St, It, Dt, Ct = edo_discret(St, It, Dt, Ct, beta, gamma, delta, N)\n",
    "    return Ls, Li, Ld, Lc"
   ]
  },
  {
   "cell_type": "code",
   "execution_count": 1,
   "metadata": {},
   "outputs": [
    {
     "ename": "NameError",
     "evalue": "name 'np' is not defined",
     "output_type": "error",
     "traceback": [
      "\u001b[0;31m---------------------------------------------------------------------------\u001b[0m",
      "\u001b[0;31mNameError\u001b[0m                                 Traceback (most recent call last)",
      "\u001b[0;32m<ipython-input-1-f765540df64f>\u001b[0m in \u001b[0;36m<module>\u001b[0;34m\u001b[0m\n\u001b[1;32m     23\u001b[0m \u001b[0;34m\u001b[0m\u001b[0m\n\u001b[1;32m     24\u001b[0m \u001b[0mend\u001b[0m \u001b[0;34m=\u001b[0m \u001b[0;36m60\u001b[0m\u001b[0;34m\u001b[0m\u001b[0;34m\u001b[0m\u001b[0m\n\u001b[0;32m---> 25\u001b[0;31m \u001b[0mt\u001b[0m \u001b[0;34m=\u001b[0m \u001b[0mnp\u001b[0m\u001b[0;34m.\u001b[0m\u001b[0mlinspace\u001b[0m\u001b[0;34m(\u001b[0m\u001b[0;36m0\u001b[0m\u001b[0;34m,\u001b[0m \u001b[0mend\u001b[0m\u001b[0;34m,\u001b[0m \u001b[0mend\u001b[0m\u001b[0;34m)\u001b[0m\u001b[0;34m\u001b[0m\u001b[0;34m\u001b[0m\u001b[0m\n\u001b[0m\u001b[1;32m     26\u001b[0m \u001b[0mLs\u001b[0m\u001b[0;34m,\u001b[0m \u001b[0mLi\u001b[0m\u001b[0;34m,\u001b[0m \u001b[0mLd\u001b[0m\u001b[0;34m,\u001b[0m \u001b[0mLc\u001b[0m \u001b[0;34m=\u001b[0m \u001b[0mSIR\u001b[0m\u001b[0;34m(\u001b[0m\u001b[0mS0\u001b[0m\u001b[0;34m,\u001b[0m \u001b[0mI0\u001b[0m\u001b[0;34m,\u001b[0m \u001b[0mD0\u001b[0m\u001b[0;34m,\u001b[0m \u001b[0mC0\u001b[0m\u001b[0;34m,\u001b[0m \u001b[0mbeta\u001b[0m\u001b[0;34m,\u001b[0m \u001b[0mgamma\u001b[0m\u001b[0;34m,\u001b[0m \u001b[0mdelta\u001b[0m\u001b[0;34m,\u001b[0m \u001b[0mN\u001b[0m\u001b[0;34m,\u001b[0m \u001b[0mend\u001b[0m\u001b[0;34m,\u001b[0m \u001b[0mbetaconf\u001b[0m\u001b[0;34m)\u001b[0m\u001b[0;34m\u001b[0m\u001b[0;34m\u001b[0m\u001b[0m\n\u001b[1;32m     27\u001b[0m \u001b[0;34m\u001b[0m\u001b[0m\n",
      "\u001b[0;31mNameError\u001b[0m: name 'np' is not defined"
     ]
    }
   ],
   "source": [
    "N = 1000\n",
    "\n",
    "I0 = 10\n",
    "D0 = 0\n",
    "C0 = 0\n",
    "S0 = N - I0 - D0 - C0\n",
    "\n",
    "d = 20 \n",
    "\n",
    "p1 = 1/50 # probabilité de transmission lors d'un contact entre un I et un S\n",
    "c1 = 30 # nombre de contact par unité de temps\n",
    "\n",
    "p2 = 1/100\n",
    "c2 = 3\n",
    "\n",
    "beta = p1 * c1\n",
    "betaconf = p2 * c2\n",
    "gamma = 1/d\n",
    "delta = 1/3\n",
    "\n",
    "Rnutch = beta/gamma    #/!\\ attention  pas le même R0 que l'initialisation de removed population\n",
    "Rnutch_conf = beta/gamma\n",
    "\n",
    "end = 60\n",
    "t = np.linspace(0, end, end)\n",
    "Ls, Li, Ld, Lc = SIR(S0, I0, D0, C0, beta, gamma, delta, N, end, betaconf)\n",
    "\n",
    "#normaliser\n",
    "Ls = Ls / N\n",
    "Li = Li / N\n",
    "Ld = Ld / N\n",
    "Lc = Lc / N\n",
    "\n",
    "plt.plot(t, Li, marker='.', color='orange', label='I(t)')\n",
    "plt.plot(t, Ls, marker='.', color='skyblue', label='S(t)')\n",
    "plt.plot(t, Ld, marker='.', color='purple', label='D(t)')\n",
    "plt.plot(t, Lc, marker='.', color='green', label='C(t)')\n",
    "plt.legend()\n",
    "plt.show()\n",
    "\n",
    "plt.stackplot(t, Li, Ls, Ld, Lc, labels=['I(t)', 'S(t)', 'D(t)', 'C(t)'], colors=['orange', 'skyblue', 'purple', 'green'])\n",
    "plt.legend(loc='upper left')\n",
    "plt.margins(0,0)\n",
    "plt.show()"
   ]
  }
 ],
 "metadata": {
  "kernelspec": {
   "display_name": "Python 3",
   "language": "python",
   "name": "python3"
  },
  "language_info": {
   "codemirror_mode": {
    "name": "ipython",
    "version": 3
   },
   "file_extension": ".py",
   "mimetype": "text/x-python",
   "name": "python",
   "nbconvert_exporter": "python",
   "pygments_lexer": "ipython3",
   "version": "3.7.3"
  }
 },
 "nbformat": 4,
 "nbformat_minor": 2
}
